{
 "cells": [
  {
   "cell_type": "code",
   "execution_count": 39,
   "metadata": {
    "ExecuteTime": {
     "end_time": "2019-07-29T14:21:34.365059Z",
     "start_time": "2019-07-29T14:21:34.318086Z"
    }
   },
   "outputs": [],
   "source": [
    "#This is for Prediction\n",
    "import pandas as pd\n",
    "from vaderSentiment.vaderSentiment import SentimentIntensityAnalyzer\n",
    "analyser = SentimentIntensityAnalyzer()\n",
    "import datetime as dt\n",
    "from datetime import timedelta\n"
   ]
  },
  {
   "cell_type": "code",
   "execution_count": 40,
   "metadata": {
    "ExecuteTime": {
     "end_time": "2019-07-29T14:21:34.752155Z",
     "start_time": "2019-07-29T14:21:34.627229Z"
    },
    "scrolled": true
   },
   "outputs": [],
   "source": [
    "olddata=pd.read_json('dataset.json')\n",
    "newscrapednews = pd.read_json('newscrapednews.json') #all new articles that day\n"
   ]
  },
  {
   "cell_type": "code",
   "execution_count": 41,
   "metadata": {
    "ExecuteTime": {
     "end_time": "2019-07-29T14:21:35.123332Z",
     "start_time": "2019-07-29T14:21:35.113337Z"
    }
   },
   "outputs": [],
   "source": [
    "def vader(df):   \n",
    "    df['RatingIndex'] = 'abc'\n",
    "    df['sentiment'] = 'abc'\n",
    "    for i in range(len(df)):\n",
    "        compound = analyser.polarity_scores(df['Text'].iloc[i])['compound']\n",
    "        df['RatingIndex'].iloc[i] = compound    \n",
    "        if compound<-0.5:\n",
    "            df['sentiment'].iloc[i] = 'NEGATIVE'\n",
    "        elif compound > 0.5:\n",
    "            df['sentiment'].iloc[i] = 'POSITIVE'\n",
    "        else:\n",
    "            df['sentiment'].iloc[i] = 'NEUTRAL'\n",
    "    return df"
   ]
  },
  {
   "cell_type": "code",
   "execution_count": 42,
   "metadata": {
    "ExecuteTime": {
     "end_time": "2019-07-29T14:21:39.034930Z",
     "start_time": "2019-07-29T14:21:36.086569Z"
    },
    "scrolled": true
   },
   "outputs": [
    {
     "name": "stderr",
     "output_type": "stream",
     "text": [
      "C:\\Anacoda3\\envs\\test37\\lib\\site-packages\\pandas\\core\\indexing.py:190: SettingWithCopyWarning: \n",
      "A value is trying to be set on a copy of a slice from a DataFrame\n",
      "\n",
      "See the caveats in the documentation: http://pandas.pydata.org/pandas-docs/stable/indexing.html#indexing-view-versus-copy\n",
      "  self._setitem_with_indexer(indexer, value)\n"
     ]
    }
   ],
   "source": [
    "vadersdata= vader(newscrapednews)\n",
    "newdata = vadersdata.append(olddata,ignore_index=True) #add all new articles with sentiments to old dataset\n",
    "newdata.to_json('dataset.json')\n"
   ]
  },
  {
   "cell_type": "markdown",
   "metadata": {},
   "source": [
    "# Top 20 articles for Marketing team"
   ]
  },
  {
   "cell_type": "code",
   "execution_count": 43,
   "metadata": {
    "ExecuteTime": {
     "end_time": "2019-07-29T14:21:39.049872Z",
     "start_time": "2019-07-29T14:21:39.037876Z"
    }
   },
   "outputs": [],
   "source": [
    "vadersdata=vadersdata[vadersdata['Timestamp']>pd.to_datetime(dt.datetime.now() - timedelta(hours=24))]"
   ]
  },
  {
   "cell_type": "code",
   "execution_count": 44,
   "metadata": {
    "ExecuteTime": {
     "end_time": "2019-07-29T14:21:39.229256Z",
     "start_time": "2019-07-29T14:21:39.211264Z"
    }
   },
   "outputs": [],
   "source": [
    "postivesentiment = vadersdata[vadersdata[\"sentiment\"]==\"POSITIVE\"].sort_values(by=\"RatingIndex\", ascending=False).head(10)\n",
    "negativesentiment= vadersdata[vadersdata[\"sentiment\"]==\"NEGATIVE\"].sort_values(by=\"RatingIndex\", ascending=False).head(10)\n",
    "finaloutput = postivesentiment.append(negativesentiment)"
   ]
  },
  {
   "cell_type": "code",
   "execution_count": 13,
   "metadata": {
    "ExecuteTime": {
     "end_time": "2019-07-29T11:33:22.530334Z",
     "start_time": "2019-07-29T11:33:21.837719Z"
    }
   },
   "outputs": [],
   "source": [
    "finaloutput.to_excel('NewsSentiment.xlsx')"
   ]
  },
  {
   "cell_type": "code",
   "execution_count": 45,
   "metadata": {
    "ExecuteTime": {
     "end_time": "2019-07-29T14:21:43.394589Z",
     "start_time": "2019-07-29T14:21:43.371595Z"
    }
   },
   "outputs": [
    {
     "data": {
      "text/html": [
       "<div>\n",
       "<style scoped>\n",
       "    .dataframe tbody tr th:only-of-type {\n",
       "        vertical-align: middle;\n",
       "    }\n",
       "\n",
       "    .dataframe tbody tr th {\n",
       "        vertical-align: top;\n",
       "    }\n",
       "\n",
       "    .dataframe thead th {\n",
       "        text-align: right;\n",
       "    }\n",
       "</style>\n",
       "<table border=\"1\" class=\"dataframe\">\n",
       "  <thead>\n",
       "    <tr style=\"text-align: right;\">\n",
       "      <th></th>\n",
       "      <th>Title</th>\n",
       "      <th>Timestamp</th>\n",
       "      <th>Links</th>\n",
       "      <th>Text</th>\n",
       "      <th>Wordslength</th>\n",
       "      <th>RatingIndex</th>\n",
       "      <th>sentiment</th>\n",
       "    </tr>\n",
       "  </thead>\n",
       "  <tbody>\n",
       "    <tr>\n",
       "      <th>15</th>\n",
       "      <td>Swiss Crypto Finance App Gains Nationally Reco...</td>\n",
       "      <td>2019-07-29 13:20:00</td>\n",
       "      <td>https://cointelegraph.com/news/swiss-crypto-fi...</td>\n",
       "      <td>Cryptocurrency -focused personal finance app A...</td>\n",
       "      <td>281</td>\n",
       "      <td>0.9901</td>\n",
       "      <td>POSITIVE</td>\n",
       "    </tr>\n",
       "    <tr>\n",
       "      <th>0</th>\n",
       "      <td>Play Dogecoin Games on BitcoinCasino.io and Wi...</td>\n",
       "      <td>2019-07-29 16:20:12</td>\n",
       "      <td>https://www.cryptoglobe.com/latest/2019/07/pla...</td>\n",
       "      <td>Bitcoincasino.io is your one-stop shop for pre...</td>\n",
       "      <td>72</td>\n",
       "      <td>0.9617</td>\n",
       "      <td>POSITIVE</td>\n",
       "    </tr>\n",
       "    <tr>\n",
       "      <th>12</th>\n",
       "      <td>Binance CEO Changpeng Zhao Speaks Exclusively ...</td>\n",
       "      <td>2019-07-29 15:15:24</td>\n",
       "      <td>https://www.cryptonewsz.com/binance-ceo-changp...</td>\n",
       "      <td>Changpeng Zhao, known as CZ, is a serial entre...</td>\n",
       "      <td>68</td>\n",
       "      <td>0.8225</td>\n",
       "      <td>POSITIVE</td>\n",
       "    </tr>\n",
       "    <tr>\n",
       "      <th>9</th>\n",
       "      <td>More Than Third of Investors in US Ready to In...</td>\n",
       "      <td>2019-07-29 15:30:52</td>\n",
       "      <td>https://www.cryptonewsz.com/more-than-third-of...</td>\n",
       "      <td>Bitcoin was intended as currency, rather than ...</td>\n",
       "      <td>75</td>\n",
       "      <td>0.6486</td>\n",
       "      <td>POSITIVE</td>\n",
       "    </tr>\n",
       "    <tr>\n",
       "      <th>7</th>\n",
       "      <td>Telecom Giant Verizon Starts Mysterious Blockc...</td>\n",
       "      <td>2019-07-29 15:45:24</td>\n",
       "      <td>https://dailyhodl.com/2019/07/29/telecom-giant...</td>\n",
       "      <td>Verizon appears to be ramping up efforts in th...</td>\n",
       "      <td>73</td>\n",
       "      <td>0.6369</td>\n",
       "      <td>POSITIVE</td>\n",
       "    </tr>\n",
       "    <tr>\n",
       "      <th>8</th>\n",
       "      <td>Ethereum Price Analysis: ETH Back To $200, Pos...</td>\n",
       "      <td>2019-07-29 15:37:41</td>\n",
       "      <td>https://cryptopotato.com/ethereum-price-analys...</td>\n",
       "      <td>Ethereum is currently trading very close to th...</td>\n",
       "      <td>68</td>\n",
       "      <td>0.6124</td>\n",
       "      <td>POSITIVE</td>\n",
       "    </tr>\n",
       "    <tr>\n",
       "      <th>6</th>\n",
       "      <td>Decred Price Analysis DCR / USD: Relying On Mi...</td>\n",
       "      <td>2019-07-29 15:54:39</td>\n",
       "      <td>https://cryptobriefing.com/decred-price-analys...</td>\n",
       "      <td>Decred has a bearish short-term outlook, with ...</td>\n",
       "      <td>67</td>\n",
       "      <td>0.5859</td>\n",
       "      <td>POSITIVE</td>\n",
       "    </tr>\n",
       "    <tr>\n",
       "      <th>3</th>\n",
       "      <td>Bitcoin’s (BTC) Marginal Growth Gives a Good S...</td>\n",
       "      <td>2019-07-29 16:00:33</td>\n",
       "      <td>https://www.cryptonewsz.com/bitcoins-btc-margi...</td>\n",
       "      <td>Bitcoin, the king of all cryptocurrencies, see...</td>\n",
       "      <td>70</td>\n",
       "      <td>0.5106</td>\n",
       "      <td>POSITIVE</td>\n",
       "    </tr>\n",
       "  </tbody>\n",
       "</table>\n",
       "</div>"
      ],
      "text/plain": [
       "                                                Title           Timestamp  \\\n",
       "15  Swiss Crypto Finance App Gains Nationally Reco... 2019-07-29 13:20:00   \n",
       "0   Play Dogecoin Games on BitcoinCasino.io and Wi... 2019-07-29 16:20:12   \n",
       "12  Binance CEO Changpeng Zhao Speaks Exclusively ... 2019-07-29 15:15:24   \n",
       "9   More Than Third of Investors in US Ready to In... 2019-07-29 15:30:52   \n",
       "7   Telecom Giant Verizon Starts Mysterious Blockc... 2019-07-29 15:45:24   \n",
       "8   Ethereum Price Analysis: ETH Back To $200, Pos... 2019-07-29 15:37:41   \n",
       "6   Decred Price Analysis DCR / USD: Relying On Mi... 2019-07-29 15:54:39   \n",
       "3   Bitcoin’s (BTC) Marginal Growth Gives a Good S... 2019-07-29 16:00:33   \n",
       "\n",
       "                                                Links  \\\n",
       "15  https://cointelegraph.com/news/swiss-crypto-fi...   \n",
       "0   https://www.cryptoglobe.com/latest/2019/07/pla...   \n",
       "12  https://www.cryptonewsz.com/binance-ceo-changp...   \n",
       "9   https://www.cryptonewsz.com/more-than-third-of...   \n",
       "7   https://dailyhodl.com/2019/07/29/telecom-giant...   \n",
       "8   https://cryptopotato.com/ethereum-price-analys...   \n",
       "6   https://cryptobriefing.com/decred-price-analys...   \n",
       "3   https://www.cryptonewsz.com/bitcoins-btc-margi...   \n",
       "\n",
       "                                                 Text  Wordslength  \\\n",
       "15  Cryptocurrency -focused personal finance app A...          281   \n",
       "0   Bitcoincasino.io is your one-stop shop for pre...           72   \n",
       "12  Changpeng Zhao, known as CZ, is a serial entre...           68   \n",
       "9   Bitcoin was intended as currency, rather than ...           75   \n",
       "7   Verizon appears to be ramping up efforts in th...           73   \n",
       "8   Ethereum is currently trading very close to th...           68   \n",
       "6   Decred has a bearish short-term outlook, with ...           67   \n",
       "3   Bitcoin, the king of all cryptocurrencies, see...           70   \n",
       "\n",
       "   RatingIndex sentiment  \n",
       "15      0.9901  POSITIVE  \n",
       "0       0.9617  POSITIVE  \n",
       "12      0.8225  POSITIVE  \n",
       "9       0.6486  POSITIVE  \n",
       "7       0.6369  POSITIVE  \n",
       "8       0.6124  POSITIVE  \n",
       "6       0.5859  POSITIVE  \n",
       "3       0.5106  POSITIVE  "
      ]
     },
     "execution_count": 45,
     "metadata": {},
     "output_type": "execute_result"
    }
   ],
   "source": [
    "finaloutput"
   ]
  },
  {
   "cell_type": "code",
   "execution_count": null,
   "metadata": {},
   "outputs": [],
   "source": []
  }
 ],
 "metadata": {
  "kernelspec": {
   "display_name": "Python 3",
   "language": "python",
   "name": "python3"
  },
  "language_info": {
   "codemirror_mode": {
    "name": "ipython",
    "version": 3
   },
   "file_extension": ".py",
   "mimetype": "text/x-python",
   "name": "python",
   "nbconvert_exporter": "python",
   "pygments_lexer": "ipython3",
   "version": "3.7.3"
  }
 },
 "nbformat": 4,
 "nbformat_minor": 2
}
